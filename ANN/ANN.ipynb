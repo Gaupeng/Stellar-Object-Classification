{
 "cells": [
  {
   "cell_type": "code",
   "execution_count": 17,
   "metadata": {},
   "outputs": [],
   "source": [
    "import pandas as pd\n",
    "import numpy as np\n",
    "import csv\n",
    "colNames = ['class', 'ra'\n",
    "            , 'dec', 'u', 'g', 'r', 'i', 'z', 'nuv_mag']\n",
    "\n",
    "dataSet = pd.read_csv('../GALEX_data-extended-feats.csv', usecols = colNames)\n",
    "layers = [8, 64, 3]\n",
    "dataSet = pd.DataFrame(dataSet)"
   ]
  },
  {
   "cell_type": "code",
   "execution_count": 18,
   "metadata": {},
   "outputs": [],
   "source": [
    "def sig(z):\n",
    "    return (1)/(1 + np.exp(-z))\n",
    "\n",
    "def sig_prime(z):\n",
    "    return sig(z)*(1-sig(z))\n",
    "\n",
    "def tanH(z):\n",
    "    return np.tanh(z)\n",
    "\n",
    "def tanH_prime(z):\n",
    "    return 1 - ((tanH(z))**2)"
   ]
  },
  {
   "cell_type": "code",
   "execution_count": 19,
   "metadata": {},
   "outputs": [],
   "source": [
    "weightsHidden = np.array(np.random.randn(layers[1], layers[0]))*(np.sqrt(2/(layers[1] + layers[0])))\n",
    "biasHidden = np.zeros(layers[1])\n",
    "weightsOut = np.array(np.random.randn(layers[2], layers[1]))*(np.sqrt(2/(layers[1] + layers[2])))\n",
    "biasOut = np.zeros(layers[2])\n",
    "testDf = dataSet.sample(frac = 0.2, random_state = 3)"
   ]
  },
  {
   "cell_type": "code",
   "execution_count": 22,
   "metadata": {
    "scrolled": false
   },
   "outputs": [
    {
     "name": "stdout",
     "output_type": "stream",
     "text": [
      "0 0.851279000594884\n",
      "1 0.8488994646044021\n",
      "2 0.8506841165972635\n",
      "3 0.7977394408090422\n",
      "4 0.8530636525877454\n",
      "5 0.8274836406900654\n",
      "6 0.8524687685901249\n",
      "7 0.8465199286139203\n",
      "8 0.851279000594884\n",
      "9 0.8352171326591314\n"
     ]
    }
   ],
   "source": [
    "def expec(inp):\n",
    "    if inp == 0:\n",
    "        return np.array([1, 0, 0])\n",
    "    elif inp == 1:\n",
    "        return np.array([0, 1, 0])\n",
    "    else:\n",
    "        return np.array([0, 0, 1])\n",
    "\n",
    "def feedFor(trainDf, row, weightsHidden, biasHidden, weightsOut, biasOut):\n",
    "    x = np.array(trainDf.iloc[row, 1:])\n",
    "    tempDot = np.array(np.dot(weightsHidden, x.T)) # 20 x 1\n",
    "    hiddenLI = np.add(tempDot, biasHidden) # 1 x 20\n",
    "    hiddenAct = tanH(hiddenLI) # 1 x 20\n",
    "    tempDot2 = np.dot(weightsOut, hiddenAct)\n",
    "    outputLI = np.add(tempDot2, biasOut.T)\n",
    "    output = tanH(outputLI)\n",
    "#     print(output)\n",
    "    return x, output, hiddenAct\n",
    "\n",
    "def backProp(trainDf, layers, x, row, output, hiddenAct, weightsHidden, biasHidden, weightsOut, biasOut, eta):\n",
    "    actClass = int(trainDf.iloc[row, 0])\n",
    "    expected = expec(actClass)\n",
    "    error = expected - output\n",
    "    slopeOutput = tanH_prime(np.array(output))\n",
    "    slopeHL = tanH_prime(np.array(hiddenAct))\n",
    "    deltaO = error*slopeOutput\n",
    "    errHL = np.dot(weightsOut.T, deltaO)\n",
    "    deltaHL = errHL*slopeHL\n",
    "    \n",
    "    deltaO = np.reshape(deltaO, (3, 1))\n",
    "    hiddenAct = np.reshape(hiddenAct, (layers[1], 1))\n",
    "    tempDot = np.dot(deltaO, hiddenAct.T)*(eta) # 3 x 20\n",
    "    weightsOut += tempDot\n",
    "    \n",
    "    deltaHL = np.reshape(deltaHL, (layers[1], 1))\n",
    "    x = np.reshape(x, (8, 1))\n",
    "    tempDot2 = np.dot(deltaHL, x.T)*(eta)\n",
    "    weightsHidden += tempDot2\n",
    "    biasHidden += np.sum(deltaHL, axis = 0)*(eta)\n",
    "    biasOut += np.sum(deltaO, axis = 0)*(eta)\n",
    "\n",
    "\n",
    "def runNN(layers, trainDf, weightsHidden, biasHidden, weightsOut, biasOut, eta):\n",
    "    for row in range(len(trainDf)):\n",
    "        x, output, hiddenAct = feedFor(trainDf, row, weightsHidden, biasHidden, weightsOut, biasOut)\n",
    "        backProp(trainDf, layers, x, row, output, hiddenAct, weightsHidden, biasHidden, weightsOut, biasOut, eta)\n",
    "\n",
    "def accu():\n",
    "    correct = 0\n",
    "    for row in range(len(testDf)):\n",
    "        actClass = int(testDf.iloc[row, 0])\n",
    "        x = np.array(testDf.iloc[row, 1:])\n",
    "        tempDot = np.array(np.dot(weightsHidden, x.T)) # 20 x 1\n",
    "        hiddenLI = np.add(tempDot, biasHidden) # 1 x 20\n",
    "        hiddenAct = tanH(hiddenLI) # 1 x 20\n",
    "        tempDot2 = np.dot(weightsOut, hiddenAct)\n",
    "        outputLI = np.add(tempDot2, biasOut.T)\n",
    "        output = tanH(outputLI)\n",
    "        expected = expec(actClass)\n",
    "        if np.argmax(expected) == np.argmax(output):\n",
    "            #print(\"Instance classified as: \", np.argmax(output))\n",
    "            correct += 1\n",
    "        else:\n",
    "            pass\n",
    "            #print(\"Instance misclassified as: \", np.argmax(output))\n",
    "        #print(output)\n",
    "    return correct/len(testDf)\n",
    "\n",
    "filename = \"accuracy_0.005_32.csv\"\n",
    "fields = ['Training Data', 'Accuracy']\n",
    "with open(filename, 'w') as csvfile:\n",
    "    csvwriter = csv.writer(csvfile)\n",
    "    csvwriter.writerow(fields) \n",
    "    eta = 0.005\n",
    "    lenDf = 0\n",
    "    for i in range(10):\n",
    "        trainDf = dataSet.sample(frac = 0.8)\n",
    "        lenDf += len(trainDf)\n",
    "        runNN(layers, trainDf, weightsHidden, biasHidden, weightsOut, biasOut, eta)\n",
    "        acc = accu()\n",
    "        newRow = [lenDf, acc]\n",
    "        csvwriter.writerow(newRow)\n",
    "        print(i, acc)\n",
    "\n"
   ]
  },
  {
   "cell_type": "code",
   "execution_count": 16,
   "metadata": {},
   "outputs": [],
   "source": [
    "np.save(\"wH\", weightsHidden)\n",
    "np.save(\"bH\", biasHidden)\n",
    "np.save(\"wO\", weightsOut)\n",
    "np.save(\"bO\", biasOut)"
   ]
  },
  {
   "cell_type": "code",
   "execution_count": null,
   "metadata": {},
   "outputs": [],
   "source": []
  },
  {
   "cell_type": "code",
   "execution_count": null,
   "metadata": {},
   "outputs": [],
   "source": []
  },
  {
   "cell_type": "code",
   "execution_count": null,
   "metadata": {},
   "outputs": [],
   "source": []
  },
  {
   "cell_type": "code",
   "execution_count": null,
   "metadata": {},
   "outputs": [],
   "source": []
  }
 ],
 "metadata": {
  "kernelspec": {
   "display_name": "Python 3",
   "language": "python",
   "name": "python3"
  },
  "language_info": {
   "codemirror_mode": {
    "name": "ipython",
    "version": 3
   },
   "file_extension": ".py",
   "mimetype": "text/x-python",
   "name": "python",
   "nbconvert_exporter": "python",
   "pygments_lexer": "ipython3",
   "version": "3.7.3"
  }
 },
 "nbformat": 4,
 "nbformat_minor": 2
}
