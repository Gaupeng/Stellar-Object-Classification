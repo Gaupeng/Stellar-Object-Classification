{
 "cells": [
  {
   "cell_type": "code",
   "execution_count": 3,
   "metadata": {},
   "outputs": [],
   "source": [
    "import numpy as np\n",
    "import pandas as pd\n",
    "weights = np.load('weights.npy', allow_pickle=True)\n",
    "bias = np.load('bias.npy', allow_pickle=True)\n",
    "colNames = ['class', 'ra', 'dec', 'u', 'g', 'r', 'i', 'z', 'nuv_mag']\n",
    "dataSet = pd.read_csv('GALEX_data-extended-feats.csv', usecols = colNames)\n",
    "layers = [8, 5, 3]\n",
    "\n",
    "def sig(z):\n",
    "    return (1)/(1 + np.exp(-z))\n"
   ]
  },
  {
   "cell_type": "code",
   "execution_count": 4,
   "metadata": {},
   "outputs": [
    {
     "name": "stderr",
     "output_type": "stream",
     "text": [
      "c:\\users\\gaurang\\appdata\\local\\programs\\python\\python37\\lib\\site-packages\\ipykernel_launcher.py:10: RuntimeWarning: overflow encountered in exp\n",
      "  # Remove the CWD from sys.path while we load stuff.\n"
     ]
    },
    {
     "name": "stdout",
     "output_type": "stream",
     "text": [
      "0.662\n"
     ]
    }
   ],
   "source": [
    "def feedFor(x, i, w, b):\n",
    "    # l should be a two element array, input vector and output vector, ex: [8, 5] or [5, 3]\n",
    "    base = sum(layers[1:i])\n",
    "    ele = layers[i]\n",
    "    newOut = []\n",
    "    for num in range(ele):\n",
    "        sigVal = sig(np.dot(w[base + num], x) + b[0][base + num])\n",
    "        newOut.append(sigVal)\n",
    "    return newOut\n",
    "\n",
    "def calc():\n",
    "    acc = 0\n",
    "    for num in range(7000):\n",
    "        currRow = dataSet.iloc[num, 1:]\n",
    "        outputh = feedFor(currRow, 1, weights, bias)\n",
    "        outputk = feedFor(outputh, 2, weights, bias)\n",
    "        if dataSet.iloc[num, 0] == outputk.index(max(outputk)):\n",
    "            acc += 1\n",
    "    print(acc/7000)\n",
    "    \n",
    "calc()"
   ]
  },
  {
   "cell_type": "code",
   "execution_count": null,
   "metadata": {},
   "outputs": [],
   "source": []
  }
 ],
 "metadata": {
  "kernelspec": {
   "display_name": "Python 3",
   "language": "python",
   "name": "python3"
  },
  "language_info": {
   "codemirror_mode": {
    "name": "ipython",
    "version": 3
   },
   "file_extension": ".py",
   "mimetype": "text/x-python",
   "name": "python",
   "nbconvert_exporter": "python",
   "pygments_lexer": "ipython3",
   "version": "3.7.3"
  }
 },
 "nbformat": 4,
 "nbformat_minor": 2
}
