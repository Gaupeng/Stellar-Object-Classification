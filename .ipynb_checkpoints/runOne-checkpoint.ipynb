{
 "cells": [
  {
   "cell_type": "code",
   "execution_count": 146,
   "metadata": {},
   "outputs": [],
   "source": [
    "import pandas as pd\n",
    "import numpy as np\n",
    "\n",
    "layers = [8, 5, 3]\n",
    "weights = []\n",
    "bias = []\n",
    "colNames = ['class', 'ra', 'dec', 'u', 'g', 'r', 'i', 'z', 'nuv_mag']\n",
    "dataSet = pd.read_csv('GALEX_data-extended-feats.csv', usecols = colNames)"
   ]
  },
  {
   "cell_type": "code",
   "execution_count": 147,
   "metadata": {},
   "outputs": [
    {
     "data": {
      "text/plain": [
       "([array([ 0.02050661, -0.04939409,  0.02139147, -0.01438846,  0.02996024,\n",
       "          0.03704368,  0.03902782, -0.03718769]),\n",
       "  array([ 0.00624287,  0.00811597, -0.0347264 , -0.02205839,  0.00262865,\n",
       "          0.04912512, -0.04167228, -0.02211436]),\n",
       "  array([-0.00560246, -0.02879525,  0.04510127,  0.03660793,  0.00370855,\n",
       "         -0.04957765, -0.03445222,  0.02504134]),\n",
       "  array([-0.03125755, -0.00975315,  0.00570199,  0.03603335,  0.0028768 ,\n",
       "         -0.00514202, -0.01032537,  0.00948804]),\n",
       "  array([ 0.00666306, -0.01362501, -0.04640445,  0.03254431,  0.04494661,\n",
       "          0.03627524,  0.02672354,  0.04843603]),\n",
       "  array([ 0.00306345,  0.03171979,  0.02088483,  0.01477273, -0.03674358]),\n",
       "  array([-0.02084113, -0.00934939,  0.01206746, -0.00252363,  0.00525176]),\n",
       "  array([-0.02154191, -0.04668463,  0.00646543, -0.01067999,  0.04280665])],\n",
       " [array([-0.0283337 ,  0.04511779, -0.03837668, -0.04339203, -0.04609085,\n",
       "         -0.01596569, -0.0145069 , -0.01022234])])"
      ]
     },
     "execution_count": 147,
     "metadata": {},
     "output_type": "execute_result"
    }
   ],
   "source": [
    "def sig(z):\n",
    "    return (1)/(1 + np.exp(-z))\n",
    "\n",
    "def sig_prime(z):\n",
    "    return sig(z)*(1-sig(z))\n",
    "\n",
    "def initialiser(layers, weights, bias):\n",
    "    # initialise all weights and biases throughout the network to small random values\n",
    "    nLayers = len(layers)\n",
    "    for num in range(1, nLayers):\n",
    "        for num2 in range(layers[num]):\n",
    "            layWeights = np.random.uniform(-0.05, 0.05, layers[num - 1])\n",
    "            weights.append(layWeights)\n",
    "    bias.append(np.random.uniform(-0.05, 0.05, sum(layers[1:])))\n",
    "    return weights, bias\n",
    "\n",
    "\n",
    "\n",
    "initialiser(layers, weights, bias)"
   ]
  },
  {
   "cell_type": "code",
   "execution_count": 148,
   "metadata": {},
   "outputs": [
    {
     "name": "stdout",
     "output_type": "stream",
     "text": [
      "[0.00601542576817397, 0.004114758921483265, -0.0027801430925997943, -0.0034720124879851996, 0.008296820496649811]\n",
      "0 0\n",
      "0 1\n",
      "0 2\n",
      "0 3\n",
      "0 4\n",
      "0 5\n",
      "0 6\n",
      "0 7\n",
      "1 0\n",
      "1 1\n",
      "1 2\n",
      "1 3\n",
      "1 4\n",
      "1 5\n",
      "1 6\n",
      "1 7\n",
      "2 0\n",
      "2 1\n",
      "2 2\n",
      "2 3\n",
      "2 4\n",
      "2 5\n",
      "2 6\n",
      "2 7\n",
      "3 0\n",
      "3 1\n",
      "3 2\n",
      "3 3\n",
      "3 4\n",
      "3 5\n",
      "3 6\n",
      "3 7\n",
      "4 0\n",
      "4 1\n",
      "4 2\n",
      "4 3\n",
      "4 4\n",
      "4 5\n",
      "4 6\n",
      "4 7\n"
     ]
    },
    {
     "ename": "IndexError",
     "evalue": "list index out of range",
     "output_type": "error",
     "traceback": [
      "\u001b[1;31m---------------------------------------------------------------------------\u001b[0m",
      "\u001b[1;31mIndexError\u001b[0m                                Traceback (most recent call last)",
      "\u001b[1;32m<ipython-input-148-4dc10d23d39b>\u001b[0m in \u001b[0;36m<module>\u001b[1;34m\u001b[0m\n\u001b[0;32m     41\u001b[0m                 \u001b[0mweights\u001b[0m\u001b[1;33m[\u001b[0m\u001b[0mnum1\u001b[0m\u001b[1;33m]\u001b[0m\u001b[1;33m[\u001b[0m\u001b[0mnum2\u001b[0m\u001b[1;33m]\u001b[0m \u001b[1;33m+=\u001b[0m \u001b[1;33m(\u001b[0m\u001b[0meta\u001b[0m\u001b[1;33m)\u001b[0m\u001b[1;33m*\u001b[0m\u001b[1;33m(\u001b[0m\u001b[0mdelK\u001b[0m\u001b[1;33m[\u001b[0m\u001b[0mnum1\u001b[0m\u001b[1;33m]\u001b[0m\u001b[1;33m)\u001b[0m\u001b[1;33m*\u001b[0m\u001b[1;33m(\u001b[0m\u001b[0moutputh\u001b[0m\u001b[1;33m[\u001b[0m\u001b[0mnum2\u001b[0m\u001b[1;33m]\u001b[0m\u001b[1;33m)\u001b[0m\u001b[1;33m\u001b[0m\u001b[1;33m\u001b[0m\u001b[0m\n\u001b[0;32m     42\u001b[0m \u001b[1;33m\u001b[0m\u001b[0m\n\u001b[1;32m---> 43\u001b[1;33m \u001b[0mall\u001b[0m\u001b[1;33m(\u001b[0m\u001b[1;36m0.1\u001b[0m\u001b[1;33m)\u001b[0m\u001b[1;33m\u001b[0m\u001b[1;33m\u001b[0m\u001b[0m\n\u001b[0m",
      "\u001b[1;32m<ipython-input-148-4dc10d23d39b>\u001b[0m in \u001b[0;36mall\u001b[1;34m(eta)\u001b[0m\n\u001b[0;32m     39\u001b[0m         \u001b[1;32mfor\u001b[0m \u001b[0mnum1\u001b[0m \u001b[1;32min\u001b[0m \u001b[0mrange\u001b[0m\u001b[1;33m(\u001b[0m\u001b[1;36m5\u001b[0m\u001b[1;33m,\u001b[0m \u001b[1;36m8\u001b[0m\u001b[1;33m)\u001b[0m\u001b[1;33m:\u001b[0m\u001b[1;33m\u001b[0m\u001b[1;33m\u001b[0m\u001b[0m\n\u001b[0;32m     40\u001b[0m             \u001b[1;32mfor\u001b[0m \u001b[0mnum2\u001b[0m \u001b[1;32min\u001b[0m \u001b[0mrange\u001b[0m\u001b[1;33m(\u001b[0m\u001b[1;36m5\u001b[0m\u001b[1;33m)\u001b[0m\u001b[1;33m:\u001b[0m\u001b[1;33m\u001b[0m\u001b[1;33m\u001b[0m\u001b[0m\n\u001b[1;32m---> 41\u001b[1;33m                 \u001b[0mweights\u001b[0m\u001b[1;33m[\u001b[0m\u001b[0mnum1\u001b[0m\u001b[1;33m]\u001b[0m\u001b[1;33m[\u001b[0m\u001b[0mnum2\u001b[0m\u001b[1;33m]\u001b[0m \u001b[1;33m+=\u001b[0m \u001b[1;33m(\u001b[0m\u001b[0meta\u001b[0m\u001b[1;33m)\u001b[0m\u001b[1;33m*\u001b[0m\u001b[1;33m(\u001b[0m\u001b[0mdelK\u001b[0m\u001b[1;33m[\u001b[0m\u001b[0mnum1\u001b[0m\u001b[1;33m]\u001b[0m\u001b[1;33m)\u001b[0m\u001b[1;33m*\u001b[0m\u001b[1;33m(\u001b[0m\u001b[0moutputh\u001b[0m\u001b[1;33m[\u001b[0m\u001b[0mnum2\u001b[0m\u001b[1;33m]\u001b[0m\u001b[1;33m)\u001b[0m\u001b[1;33m\u001b[0m\u001b[1;33m\u001b[0m\u001b[0m\n\u001b[0m\u001b[0;32m     42\u001b[0m \u001b[1;33m\u001b[0m\u001b[0m\n\u001b[0;32m     43\u001b[0m \u001b[0mall\u001b[0m\u001b[1;33m(\u001b[0m\u001b[1;36m0.1\u001b[0m\u001b[1;33m)\u001b[0m\u001b[1;33m\u001b[0m\u001b[1;33m\u001b[0m\u001b[0m\n",
      "\u001b[1;31mIndexError\u001b[0m: list index out of range"
     ]
    }
   ],
   "source": [
    "def feedFor(x, i, w, b):\n",
    "    # l should be a two element array, input vector and output vector, ex: [8, 5] or [5, 3]\n",
    "    base = sum(layers[1:i])\n",
    "    ele = layers[i]\n",
    "    newOut = []\n",
    "    for num in range(ele):\n",
    "        sigVal = sig(np.dot(w[base + num], x) + b[0][base + num])\n",
    "        newOut.append(sigVal)\n",
    "    return newOut\n",
    "\n",
    "def fixWeights(outputk, outputh, i, w):\n",
    "    if(dataSet.iloc[i, 0] == 0):\n",
    "        exp = [1, 0, 0]\n",
    "    elif(dataSet.iloc[i, 0] == 1):\n",
    "        exp = [0, 1, 0]\n",
    "    else:\n",
    "        exp = [0, 0, 1]\n",
    "    delK = []; delH = []\n",
    "    for num in range(layers[-1]):\n",
    "        delK.append(outputk[num]*(1 - outputk[num])*(exp[num] - outputk[num]))\n",
    "    for num1 in range(layers[-2]):\n",
    "        tSum = 0\n",
    "        for num2 in range(layers[-1]):\n",
    "            tSum += weights[num1][num2] * delK[num2] \n",
    "        delH.append(tSum)\n",
    "    return delH, delK\n",
    "        \n",
    "def all(eta):\n",
    "    for num in range(3000):\n",
    "        currRow = dataSet.iloc[num, 1:]\n",
    "        outputh = feedFor(currRow, 1, weights, bias)\n",
    "        outputk = feedFor(outputh, 2, weights, bias)\n",
    "        delH, delK = fixWeights(outputk, outputh, num, weights)\n",
    "        print(delH)\n",
    "        for num1 in range(5):\n",
    "            for num2 in range(8):\n",
    "                print(num1, num2)\n",
    "                weights[num1][num2] += (eta)*(delH[num2])*(currRow[num2])\n",
    "        for num1 in range(5, 8):\n",
    "            for num2 in range(5):\n",
    "                weights[num1][num2] += (eta)*(delK[num2])*(outputh[num2])\n",
    "      \n",
    "all(0.1)"
   ]
  },
  {
   "cell_type": "code",
   "execution_count": null,
   "metadata": {},
   "outputs": [],
   "source": []
  },
  {
   "cell_type": "code",
   "execution_count": null,
   "metadata": {},
   "outputs": [],
   "source": []
  }
 ],
 "metadata": {
  "kernelspec": {
   "display_name": "Python 3",
   "language": "python",
   "name": "python3"
  },
  "language_info": {
   "codemirror_mode": {
    "name": "ipython",
    "version": 3
   },
   "file_extension": ".py",
   "mimetype": "text/x-python",
   "name": "python",
   "nbconvert_exporter": "python",
   "pygments_lexer": "ipython3",
   "version": "3.7.3"
  }
 },
 "nbformat": 4,
 "nbformat_minor": 2
}
