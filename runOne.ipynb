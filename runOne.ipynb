{
 "cells": [
  {
   "cell_type": "code",
   "execution_count": 1,
   "metadata": {},
   "outputs": [],
   "source": [
    "import pandas as pd\n",
    "import numpy as np\n",
    "\n",
    "layers = [8, 5, 3]\n",
    "weights = []\n",
    "bias = []\n",
    "colNames = ['class', 'ra', 'dec', 'u', 'g', 'r', 'i', 'z', 'nuv_mag']\n",
    "dataSet = pd.read_csv('GALEX_data-extended-feats.csv', usecols = colNames)"
   ]
  },
  {
   "cell_type": "code",
   "execution_count": 2,
   "metadata": {},
   "outputs": [
    {
     "data": {
      "text/plain": [
       "([array([-0.01891674,  0.01576799, -0.01299996, -0.01452863, -0.01859359,\n",
       "          0.02128298, -0.01357855, -0.04313605]),\n",
       "  array([ 0.02706956,  0.03355041,  0.048123  ,  0.03301729,  0.00670263,\n",
       "         -0.0414698 , -0.02344813, -0.03661948]),\n",
       "  array([-0.04188266,  0.04932861,  0.02615711,  0.03483297, -0.03907388,\n",
       "          0.01441777,  0.01286104, -0.02486606]),\n",
       "  array([ 0.0157468 ,  0.01097962,  0.02531218, -0.00539298,  0.02938773,\n",
       "          0.04872916,  0.01742098, -0.00786166]),\n",
       "  array([ 0.01540625, -0.00892678,  0.04761241, -0.04382494, -0.04412623,\n",
       "         -0.04739499,  0.01917141,  0.02831043]),\n",
       "  array([-0.02532983, -0.04701216,  0.01715933,  0.01052588,  0.00620816]),\n",
       "  array([-0.00646108, -0.04397024, -0.03290629, -0.00011236,  0.00315546]),\n",
       "  array([ 0.04653146,  0.04859959, -0.01723641, -0.02859964,  0.03482677])],\n",
       " [array([ 0.02154509,  0.01813313,  0.0013882 , -0.00842511,  0.00287031,\n",
       "         -0.00021216, -0.01360444,  0.01243512])])"
      ]
     },
     "execution_count": 2,
     "metadata": {},
     "output_type": "execute_result"
    }
   ],
   "source": [
    "def sig(z):\n",
    "    return (1)/(1 + np.exp(-z))\n",
    "\n",
    "def sig_prime(z):\n",
    "    return sig(z)*(1-sig(z))\n",
    "\n",
    "def initialiser(layers, weights, bias):\n",
    "    # initialise all weights and biases throughout the network to small random values\n",
    "    nLayers = len(layers)\n",
    "    for num in range(1, nLayers):\n",
    "        for num2 in range(layers[num]):\n",
    "            layWeights = np.random.uniform(-0.05, 0.05, layers[num - 1])\n",
    "            weights.append(layWeights)\n",
    "    bias.append(np.random.uniform(-0.05, 0.05, sum(layers[1:])))\n",
    "    return weights, bias\n",
    "\n",
    "\n",
    "\n",
    "initialiser(layers, weights, bias)"
   ]
  },
  {
   "cell_type": "code",
   "execution_count": 3,
   "metadata": {},
   "outputs": [
    {
     "name": "stderr",
     "output_type": "stream",
     "text": [
      "c:\\users\\gaurang\\appdata\\local\\programs\\python\\python37\\lib\\site-packages\\ipykernel_launcher.py:2: RuntimeWarning: overflow encountered in exp\n",
      "  \n"
     ]
    },
    {
     "name": "stdout",
     "output_type": "stream",
     "text": [
      "[-2.45010232e+17 -3.84873955e+16 -2.30764247e+16 -2.45380925e+16\n",
      " -2.79558150e+16 -3.12308175e+16 -3.37128756e+16 -2.47695555e+16] [-4.93893014e+16 -7.75831100e+15 -4.65175877e+15 -4.94640259e+15\n",
      " -5.63534903e+15 -6.29552590e+15 -6.79586057e+15 -4.99306103e+15] [-5.64047944e+17 -8.86033867e+16 -5.31251687e+16 -5.64901331e+16\n",
      " -6.43582101e+16 -7.18977256e+16 -7.76117717e+16 -5.70229934e+16] [3.52268846e+16 5.53360989e+15 3.31786368e+15 3.52801818e+15\n",
      " 4.01940875e+15 4.49027944e+15 4.84714279e+15 3.56129728e+15] [2.31581615e+17 3.63779632e+16 2.18116429e+16 2.31931991e+16\n",
      " 2.64236017e+16 2.95191066e+16 3.18651270e+16 2.34119759e+16] [-0.79084348 -0.79515615 -0.74841329 -1.08843607 -1.08872054] [0.45277751 0.39972274 0.42638846 0.4887182  0.49036694] [-0.50778669 -0.50067203 -0.57149448 -0.77539237 -0.70642936] [ 0.02154509  0.01813313  0.0013882  -0.00842511  0.00287031 -0.00021216\n",
      " -0.01360444  0.01243512]\n"
     ]
    }
   ],
   "source": [
    "def feedFor(x, i, w, b):\n",
    "    # l should be a two element array, input vector and output vector, ex: [8, 5] or [5, 3]\n",
    "    base = sum(layers[1:i])\n",
    "    ele = layers[i]\n",
    "    newOut = []\n",
    "    for num in range(ele):\n",
    "        sigVal = sig(np.dot(w[base + num], x) + b[0][base + num])\n",
    "        newOut.append(sigVal)\n",
    "    return newOut\n",
    "\n",
    "def fixWeights(outputk, outputh, i, w):\n",
    "    if(dataSet.iloc[i, 0] == 0):\n",
    "        exp = [1, 0, 0]\n",
    "    elif(dataSet.iloc[i, 0] == 1):\n",
    "        exp = [0, 1, 0]\n",
    "    else:\n",
    "        exp = [0, 0, 1]\n",
    "    delK = []; delH = []\n",
    "    for num in range(layers[-1]):\n",
    "        delK.append(outputk[num]*(1 - outputk[num])*(exp[num] - outputk[num]))\n",
    "    for num1 in range(layers[-2]):\n",
    "        tSum = 0\n",
    "        for num2 in range(layers[-1]):\n",
    "            tSum += weights[num1][num2] * delK[num2] \n",
    "        delH.append(tSum)\n",
    "    return delH, delK\n",
    "        \n",
    "def all(eta):\n",
    "    for num in range(7000):\n",
    "        currRow = dataSet.iloc[num, 1:]\n",
    "        outputh = feedFor(currRow, 1, weights, bias)\n",
    "        outputk = feedFor(outputh, 2, weights, bias)\n",
    "        delH, delK = fixWeights(outputk, outputh, num, weights)\n",
    "        for num1 in range(5):\n",
    "            for num2 in range(8):\n",
    "                weights[num1][num2] += (eta)*(delH[num1])*(currRow[num2])\n",
    "        for num1 in range(5, 8):\n",
    "            for num2 in range(5):\n",
    "                weights[num1][num2] += (eta)*(delK[num1 - 5])*(outputh[num2])\n",
    "      \n",
    "all(0.1)\n",
    "print(*weights, *bias)\n"
   ]
  },
  {
   "cell_type": "code",
   "execution_count": 4,
   "metadata": {},
   "outputs": [],
   "source": [
    "\n",
    "np.save('weights', weights)\n",
    "np.save('bias', bias)"
   ]
  },
  {
   "cell_type": "code",
   "execution_count": null,
   "metadata": {},
   "outputs": [],
   "source": []
  }
 ],
 "metadata": {
  "kernelspec": {
   "display_name": "Python 3",
   "language": "python",
   "name": "python3"
  },
  "language_info": {
   "codemirror_mode": {
    "name": "ipython",
    "version": 3
   },
   "file_extension": ".py",
   "mimetype": "text/x-python",
   "name": "python",
   "nbconvert_exporter": "python",
   "pygments_lexer": "ipython3",
   "version": "3.7.3"
  }
 },
 "nbformat": 4,
 "nbformat_minor": 2
}
