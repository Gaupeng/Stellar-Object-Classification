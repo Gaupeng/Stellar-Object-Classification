{
 "cells": [
  {
   "cell_type": "code",
   "execution_count": 26,
   "metadata": {},
   "outputs": [],
   "source": [
    "import pandas as pd\n",
    "import csv"
   ]
  },
  {
   "cell_type": "code",
   "execution_count": 27,
   "metadata": {},
   "outputs": [],
   "source": [
    "f = open(\"DT_depthVsAccuracy.txt\",\"r\")"
   ]
  },
  {
   "cell_type": "code",
   "execution_count": 28,
   "metadata": {},
   "outputs": [],
   "source": [
    "data = f.read().split(\"\\n\")"
   ]
  },
  {
   "cell_type": "code",
   "execution_count": 29,
   "metadata": {},
   "outputs": [
    {
     "data": {
      "text/plain": [
       "['1 0.8161808447352766',\n",
       " '2 0.8161808447352766',\n",
       " '3 0.8494943486020226',\n",
       " '4 0.8542534205829864',\n",
       " '5 0.8590124925639501',\n",
       " '6 0.8709101725163593',\n",
       " '7 0.8655562165377751',\n",
       " '8 0.8584176085663295',\n",
       " '9 0.8655562165377751',\n",
       " '10 0.8560380725758477',\n",
       " '11 0.8613920285544319',\n",
       " '12 0.8542534205829864',\n",
       " '13 0.8578227245687091',\n",
       " '14 0.8602022605591909',\n",
       " '15 0.8602022605591909',\n",
       " '16 0.8602022605591909',\n",
       " '17 0.8602022605591909',\n",
       " '18 0.8596073765615705',\n",
       " '19 0.8596073765615705',\n",
       " '20 0.8596073765615705',\n",
       " '']"
      ]
     },
     "execution_count": 29,
     "metadata": {},
     "output_type": "execute_result"
    }
   ],
   "source": [
    "data"
   ]
  },
  {
   "cell_type": "code",
   "execution_count": 33,
   "metadata": {},
   "outputs": [],
   "source": [
    "with open(\"DT_depth_accuracy.csv\",\"w\") as csvfile:\n",
    "    csvw = csv.writer(csvfile)\n",
    "    csvw.writerow([\"Depth\", \"Accuracy\"])\n",
    "    for row in data:\n",
    "        rowF = row.split()\n",
    "        csvw.writerow(rowF)"
   ]
  },
  {
   "cell_type": "code",
   "execution_count": 20,
   "metadata": {},
   "outputs": [
    {
     "data": {
      "text/plain": [
       "list"
      ]
     },
     "execution_count": 20,
     "metadata": {},
     "output_type": "execute_result"
    }
   ],
   "source": [
    "type(data)"
   ]
  },
  {
   "cell_type": "code",
   "execution_count": 34,
   "metadata": {},
   "outputs": [],
   "source": [
    "g = open(\"Random_forest_data.txt\",\"r\")"
   ]
  },
  {
   "cell_type": "code",
   "execution_count": 35,
   "metadata": {},
   "outputs": [],
   "source": [
    "d = g.read().split(\"\\n\")"
   ]
  },
  {
   "cell_type": "code",
   "execution_count": 37,
   "metadata": {},
   "outputs": [],
   "source": [
    "with open(\"RF_accuracy.csv\",\"w\") as csvfile:\n",
    "    csvw = csv.writer(csvfile)\n",
    "    csvw.writerow([\"#Trees\", \"Accuracy\"])\n",
    "    for row in d:\n",
    "        rowF = row.split(\":\")\n",
    "        csvw.writerow(rowF)"
   ]
  },
  {
   "cell_type": "code",
   "execution_count": null,
   "metadata": {},
   "outputs": [],
   "source": []
  }
 ],
 "metadata": {
  "kernelspec": {
   "display_name": "Python 3",
   "language": "python",
   "name": "python3"
  },
  "language_info": {
   "codemirror_mode": {
    "name": "ipython",
    "version": 3
   },
   "file_extension": ".py",
   "mimetype": "text/x-python",
   "name": "python",
   "nbconvert_exporter": "python",
   "pygments_lexer": "ipython3",
   "version": "3.7.3"
  }
 },
 "nbformat": 4,
 "nbformat_minor": 2
}
